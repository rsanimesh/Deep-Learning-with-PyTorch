{
 "cells": [
  {
   "cell_type": "markdown",
   "metadata": {},
   "source": [
    "# Working with Images"
   ]
  },
  {
   "cell_type": "code",
   "execution_count": 13,
   "metadata": {
    "ExecuteTime": {
     "end_time": "2020-08-09T13:24:20.434828Z",
     "start_time": "2020-08-09T13:24:20.429841Z"
    }
   },
   "outputs": [],
   "source": [
    "import os\n",
    "import imageio\n",
    "import torch"
   ]
  },
  {
   "cell_type": "code",
   "execution_count": 4,
   "metadata": {
    "ExecuteTime": {
     "end_time": "2020-08-09T07:29:51.153413Z",
     "start_time": "2020-08-09T07:29:51.135714Z"
    }
   },
   "outputs": [
    {
     "data": {
      "text/plain": [
       "(720, 1280, 3)"
      ]
     },
     "execution_count": 4,
     "metadata": {},
     "output_type": "execute_result"
    }
   ],
   "source": [
    "# Loading an image file\n",
    "img_arr = imageio.imread(\"D:\\Code\\Resources\\Data\\PetImages\\golden_retriver.jpg\")\n",
    "img_arr.shape"
   ]
  },
  {
   "cell_type": "markdown",
   "metadata": {
    "ExecuteTime": {
     "end_time": "2020-08-09T07:29:20.824338Z",
     "start_time": "2020-08-09T07:29:20.814366Z"
    }
   },
   "source": [
    "Now image is a Numpy array like object with three dimensions: two spatial dimensions, __height and width__, and a third dimension corresponding to the __red, green, andd blue channels__.\n",
    "\n",
    "The only thing to watch is layout of the dimensions. PyTorch modules dealing with image data require tensor to be laid out as __C * H * W__.\n",
    "    "
   ]
  },
  {
   "cell_type": "code",
   "execution_count": 9,
   "metadata": {
    "ExecuteTime": {
     "end_time": "2020-08-09T12:08:51.836238Z",
     "start_time": "2020-08-09T12:08:51.831252Z"
    }
   },
   "outputs": [
    {
     "data": {
      "text/plain": [
       "torch.Size([3, 720, 1280])"
      ]
     },
     "execution_count": 9,
     "metadata": {},
     "output_type": "execute_result"
    }
   ],
   "source": [
    "# Channging the layout\n",
    "# this operation doesnot make copy of the tensor data.\n",
    "#Instead out uses the same underlying storage as img and only plays with the size and stride information at the tensor level.\n",
    "\n",
    "img = torch.from_numpy(img_arr)\n",
    "out = img.permute(2,0,1)\n",
    "out.shape"
   ]
  },
  {
   "cell_type": "markdown",
   "metadata": {},
   "source": [
    "Create a dataset of multiple images, store the images along the first dimension to obtain an __N * C * H * W__ tensor."
   ]
  },
  {
   "cell_type": "code",
   "execution_count": 11,
   "metadata": {
    "ExecuteTime": {
     "end_time": "2020-08-09T13:13:41.923633Z",
     "start_time": "2020-08-09T13:13:41.782886Z"
    }
   },
   "outputs": [],
   "source": [
    "batch_size = 3\n",
    "batch = torch.zeros(batch_size, 3, 256, 256, dtype=torch.uint8)"
   ]
  },
  {
   "cell_type": "code",
   "execution_count": 19,
   "metadata": {
    "ExecuteTime": {
     "end_time": "2020-08-09T13:28:41.249161Z",
     "start_time": "2020-08-09T13:28:40.594136Z"
    }
   },
   "outputs": [
    {
     "name": "stdout",
     "output_type": "stream",
     "text": [
      "torch.Size([375, 500, 3])\n",
      "torch.Size([500, 327, 3])\n",
      "torch.Size([293, 269, 3])\n"
     ]
    }
   ],
   "source": [
    "data_dir = r\"D:/Code/Resources/Data/PetImages/Dog/\"\n",
    "filesnames = os.listdir(data_dir)[:3]\n",
    "for i,file in enumerate(filesnames):\n",
    "    img_arr = imageio.imread(os.path.join(data_dir,file))\n",
    "    img_t = torch.from_numpy(img_arr)\n",
    "    print(img_t.shape)"
   ]
  },
  {
   "cell_type": "code",
   "execution_count": null,
   "metadata": {},
   "outputs": [],
   "source": []
  }
 ],
 "metadata": {
  "kernelspec": {
   "display_name": "pytorch_env",
   "language": "python",
   "name": "pytorch_env"
  },
  "language_info": {
   "codemirror_mode": {
    "name": "ipython",
    "version": 3
   },
   "file_extension": ".py",
   "mimetype": "text/x-python",
   "name": "python",
   "nbconvert_exporter": "python",
   "pygments_lexer": "ipython3",
   "version": "3.7.1"
  },
  "toc": {
   "base_numbering": 1,
   "nav_menu": {},
   "number_sections": true,
   "sideBar": true,
   "skip_h1_title": false,
   "title_cell": "Table of Contents",
   "title_sidebar": "Contents",
   "toc_cell": false,
   "toc_position": {},
   "toc_section_display": true,
   "toc_window_display": false
  },
  "varInspector": {
   "cols": {
    "lenName": 16,
    "lenType": 16,
    "lenVar": 40
   },
   "kernels_config": {
    "python": {
     "delete_cmd_postfix": "",
     "delete_cmd_prefix": "del ",
     "library": "var_list.py",
     "varRefreshCmd": "print(var_dic_list())"
    },
    "r": {
     "delete_cmd_postfix": ") ",
     "delete_cmd_prefix": "rm(",
     "library": "var_list.r",
     "varRefreshCmd": "cat(var_dic_list()) "
    }
   },
   "types_to_exclude": [
    "module",
    "function",
    "builtin_function_or_method",
    "instance",
    "_Feature"
   ],
   "window_display": false
  }
 },
 "nbformat": 4,
 "nbformat_minor": 2
}
